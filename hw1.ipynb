{
 "cells": [
  {
   "cell_type": "markdown",
   "metadata": {},
   "source": [
    "# Homework 1 "
   ]
  },
  {
   "cell_type": "markdown",
   "metadata": {},
   "source": [
    "## Write a Jupyter Magic"
   ]
  },
  {
   "cell_type": "code",
   "execution_count": 1,
   "metadata": {},
   "outputs": [],
   "source": [
    "from IPython.core.magic import (register_line_cell_magic)"
   ]
  },
  {
   "cell_type": "code",
   "execution_count": 6,
   "metadata": {},
   "outputs": [],
   "source": [
    "@register_line_cell_magic\n",
    "def countwords(line, cell=None):\n",
    "    if cell is None:\n",
    "        return len(line.split())\n",
    "    else:\n",
    "        return len((line + cell).split())"
   ]
  },
  {
   "cell_type": "code",
   "execution_count": 10,
   "metadata": {},
   "outputs": [
    {
     "data": {
      "text/plain": [
       "5"
      ]
     },
     "execution_count": 10,
     "metadata": {},
     "output_type": "execute_result"
    }
   ],
   "source": [
    "%countwords this is a line magic"
   ]
  },
  {
   "cell_type": "code",
   "execution_count": 11,
   "metadata": {},
   "outputs": [
    {
     "data": {
      "text/plain": [
       "5"
      ]
     },
     "execution_count": 11,
     "metadata": {},
     "output_type": "execute_result"
    }
   ],
   "source": [
    "%%countwords\n",
    "\n",
    "this is a magic\n",
    "cell"
   ]
  },
  {
   "cell_type": "markdown",
   "metadata": {},
   "source": [
    "## Profile the speed of list comprehension vs. for loops"
   ]
  },
  {
   "cell_type": "code",
   "execution_count": 18,
   "metadata": {},
   "outputs": [],
   "source": [
    "vec = [0] * 1000000"
   ]
  },
  {
   "cell_type": "code",
   "execution_count": 22,
   "metadata": {},
   "outputs": [
    {
     "name": "stdout",
     "output_type": "stream",
     "text": [
      "CPU times: user 26 ms, sys: 5.24 ms, total: 31.2 ms\n",
      "Wall time: 29.2 ms\n"
     ]
    }
   ],
   "source": [
    "%time vec1 = [i for i in vec]"
   ]
  },
  {
   "cell_type": "code",
   "execution_count": 20,
   "metadata": {},
   "outputs": [
    {
     "name": "stdout",
     "output_type": "stream",
     "text": [
      "CPU times: user 76.2 ms, sys: 11 ms, total: 87.2 ms\n",
      "Wall time: 84 ms\n"
     ]
    }
   ],
   "source": [
    "%%time \n",
    "vec2 = []\n",
    "for i in vec:\n",
    "    vec2.append(i)"
   ]
  },
  {
   "cell_type": "code",
   "execution_count": 21,
   "metadata": {},
   "outputs": [],
   "source": [
    "# list comprehension is about 3x faster than for loop in constructing a new list"
   ]
  },
  {
   "cell_type": "markdown",
   "metadata": {},
   "source": [
    "## Prime numbers"
   ]
  },
  {
   "cell_type": "code",
   "execution_count": 51,
   "metadata": {},
   "outputs": [],
   "source": [
    "def prime(nums):\n",
    "    return [i for i in nums if i > 1 and all(i % divisor != 0 for divisor in range(2, int(i ** 0.5) + 1))]"
   ]
  },
  {
   "cell_type": "code",
   "execution_count": 52,
   "metadata": {},
   "outputs": [
    {
     "data": {
      "text/plain": [
       "[2, 3, 5, 7]"
      ]
     },
     "execution_count": 52,
     "metadata": {},
     "output_type": "execute_result"
    }
   ],
   "source": [
    "prime([1, 2, 3, 4, 5, 6, 7])"
   ]
  },
  {
   "cell_type": "markdown",
   "metadata": {},
   "source": [
    "## Extend the Vector class"
   ]
  },
  {
   "cell_type": "code",
   "execution_count": 92,
   "metadata": {},
   "outputs": [],
   "source": [
    "class Vector:\n",
    "    def __init__(self, *nums): # Save values as a tuple\n",
    "        self.data = nums\n",
    "\n",
    "    def __repr__(self):\n",
    "        return f'Vector{self.data}'\n",
    "    \n",
    "    def __str__(self):\n",
    "        return f\"{self.data}\"\n",
    "\n",
    "    def __abs__(self): # Euclidean distance\n",
    "        return sum([i ** 2 for i in self.data]) ** 0.5\n",
    "\n",
    "    def __add__(self, other):  # Add values if vectors are the same size\n",
    "        if len(self.data) == len(other.data):\n",
    "            return Vector(*(self.data[i] + other.data[i] for i in range(len(self.data))))\n",
    "        else:\n",
    "            print(\"Vectors are not the same size\")\n",
    "\n",
    "    def __mul__(self, scalar): # multiply values of vector by a scalar\n",
    "        return Vector(*(i * scalar for i in self.data))\n",
    "    \n",
    "    def __getitem__(self, key): # get value + slicing\n",
    "        return self.data[key]\n",
    "    \n",
    "    def __len__(self): # length of vector\n",
    "        return len(self.data)\n",
    "    \n",
    "    def __pow__(self, exponent): # raise all values of vector to an exponent\n",
    "        return Vector(*(i ** exponent for i in self.data))"
   ]
  },
  {
   "cell_type": "code",
   "execution_count": 93,
   "metadata": {},
   "outputs": [
    {
     "data": {
      "text/plain": [
       "Vector(4, 6, 8)"
      ]
     },
     "execution_count": 93,
     "metadata": {},
     "output_type": "execute_result"
    }
   ],
   "source": [
    "vector1 = Vector(1, 2, 3)\n",
    "vector2 = Vector(3, 4, 5)\n",
    "\n",
    "vector1 + vector2"
   ]
  },
  {
   "cell_type": "code",
   "execution_count": 94,
   "metadata": {},
   "outputs": [
    {
     "name": "stdout",
     "output_type": "stream",
     "text": [
      "3\n",
      "(3,)\n",
      "5\n",
      "(1, 4, 9, 16, 25)\n"
     ]
    }
   ],
   "source": [
    "# construction\n",
    "v = Vector(1, 2, 3, 4, 5)\n",
    "\n",
    "# get item\n",
    "print(v[2])\n",
    "\n",
    "# slicing\n",
    "print(v[2:3])\n",
    "\n",
    "# length\n",
    "print(len(v))\n",
    "\n",
    "# power\n",
    "print(v ** 2)\n"
   ]
  },
  {
   "cell_type": "markdown",
   "metadata": {},
   "source": [
    "## Case-insensitive dictionary"
   ]
  },
  {
   "cell_type": "code",
   "execution_count": 112,
   "metadata": {},
   "outputs": [],
   "source": [
    "class CaseInsensitiveDict(dict):\n",
    "    def __getitem__(self, key):\n",
    "        for i in list(self.keys()):\n",
    "            if i.lower() == key.lower():\n",
    "                return self.get(i)\n",
    "    def __setitem__(self, key, val):\n",
    "        for i in list(self.keys()):\n",
    "            if i.lower() == key.lower():\n",
    "                self.update({i: val})\n",
    "                return\n",
    "        self.update({key: val})"
   ]
  },
  {
   "cell_type": "code",
   "execution_count": 113,
   "metadata": {},
   "outputs": [
    {
     "name": "stdout",
     "output_type": "stream",
     "text": [
      "5\n",
      "{'abc': 6}\n"
     ]
    }
   ],
   "source": [
    "mydict = CaseInsensitiveDict()\n",
    "mydict['abc'] = 5\n",
    "print(mydict['ABC'])\n",
    "mydict['aBc'] = 6\n",
    "print(mydict)"
   ]
  }
 ],
 "metadata": {
  "kernelspec": {
   "display_name": "Python 3",
   "language": "python",
   "name": "python3"
  },
  "language_info": {
   "codemirror_mode": {
    "name": "ipython",
    "version": 3
   },
   "file_extension": ".py",
   "mimetype": "text/x-python",
   "name": "python",
   "nbconvert_exporter": "python",
   "pygments_lexer": "ipython3",
   "version": "3.7.7"
  },
  "toc": {
   "base_numbering": 1,
   "nav_menu": {},
   "number_sections": true,
   "sideBar": true,
   "skip_h1_title": false,
   "title_cell": "Table of Contents",
   "title_sidebar": "Contents",
   "toc_cell": false,
   "toc_position": {},
   "toc_section_display": true,
   "toc_window_display": true
  }
 },
 "nbformat": 4,
 "nbformat_minor": 4
}
