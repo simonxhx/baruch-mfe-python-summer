{
 "cells": [
  {
   "cell_type": "markdown",
   "metadata": {},
   "source": [
    "# Homework 2"
   ]
  },
  {
   "cell_type": "markdown",
   "metadata": {},
   "source": [
    "## @vectorize decorator"
   ]
  },
  {
   "cell_type": "code",
   "execution_count": 21,
   "metadata": {},
   "outputs": [],
   "source": [
    "def vectorize(func):\n",
    "    \n",
    "    def inner(*args):\n",
    "        return [func(*arg) for arg in list(zip(*args))]\n",
    "\n",
    "    return inner\n",
    "        "
   ]
  },
  {
   "cell_type": "code",
   "execution_count": 22,
   "metadata": {},
   "outputs": [
    {
     "name": "stdout",
     "output_type": "stream",
     "text": [
      "[0.0, 1.0, 1.5849625007211563]\n",
      "[5, 7, 9]\n"
     ]
    }
   ],
   "source": [
    "import math\n",
    "\n",
    "\n",
    "@vectorize\n",
    "def log2(num):\n",
    "    return math.log(num, 2)\n",
    "\n",
    "print(log2((1, 2, 3)))\n",
    "\n",
    "\n",
    "@vectorize\n",
    "def add(x, y):\n",
    "    return x + y\n",
    "\n",
    "\n",
    "print(add([1, 2, 3], [4, 5, 6]))"
   ]
  },
  {
   "cell_type": "markdown",
   "metadata": {},
   "source": [
    "## Merge sorted stream"
   ]
  },
  {
   "cell_type": "code",
   "execution_count": 34,
   "metadata": {},
   "outputs": [],
   "source": [
    "import heapq\n",
    "\n",
    "def merge_sorted_stream(*args):\n",
    "    \n",
    "    streams = [list(s) for s in args]\n",
    "    heapq.heapify(streams)\n",
    "    \n",
    "    while streams:\n",
    "        current = heapq.heappop(streams)\n",
    "        yield current.pop(0)\n",
    "        if current: heapq.heappush(streams, current)\n",
    "\n"
   ]
  },
  {
   "cell_type": "code",
   "execution_count": 35,
   "metadata": {},
   "outputs": [
    {
     "name": "stdout",
     "output_type": "stream",
     "text": [
      "0\n",
      "1\n",
      "2\n",
      "3\n",
      "4\n",
      "5\n",
      "6\n",
      "7\n",
      "8\n",
      "9\n"
     ]
    }
   ],
   "source": [
    "stream1 = range(0, 10, 2)\n",
    "stream2 = range(1, 10, 2)\n",
    "\n",
    "for x in merge_sorted_stream(stream1, stream2):\n",
    "    print(x)"
   ]
  },
  {
   "cell_type": "markdown",
   "metadata": {},
   "source": [
    "## Tree traversal"
   ]
  },
  {
   "cell_type": "code",
   "execution_count": 69,
   "metadata": {},
   "outputs": [],
   "source": [
    "class TreeNode:\n",
    "    \n",
    "    def __init__(self, val):\n",
    "        self.val = val\n",
    "        self.left = None\n",
    "        self.right = None\n",
    "        \n",
    "    def in_order(self):\n",
    "        if self.left:\n",
    "            yield from self.left.in_order()\n",
    "        yield str(self.val)\n",
    "        if self.right:\n",
    "            yield from self.right.in_order()\n",
    "\n",
    "    def pre_order(self):\n",
    "        yield str(self.val)\n",
    "        if self.left:\n",
    "            yield from self.left.in_order()\n",
    "        if self.right:\n",
    "            yield from self.right.in_order()\n",
    "\n",
    "    def post_order(self):\n",
    "        if self.left:\n",
    "            yield from self.left.post_order()\n",
    "        if self.right:\n",
    "            yield from self.right.post_order()\n",
    "        yield str(self.val)\n"
   ]
  },
  {
   "cell_type": "code",
   "execution_count": 70,
   "metadata": {},
   "outputs": [
    {
     "name": "stdout",
     "output_type": "stream",
     "text": [
      "4 -> 2 -> 5 -> 1 -> 3\n",
      "1 -> 4 -> 2 -> 5 -> 3\n",
      "4 -> 5 -> 2 -> 3 -> 1\n"
     ]
    }
   ],
   "source": [
    "root = TreeNode(1)\n",
    "root.left = TreeNode(2)\n",
    "root.right = TreeNode(3)\n",
    "root.left.left = TreeNode(4)\n",
    "root.left.right = TreeNode(5)\n",
    "\n",
    "print(' -> '.join(item for item in root.in_order()))\n",
    "print(' -> '.join(item for item in root.pre_order()))\n",
    "print(' -> '.join(item for item in root.post_order()))"
   ]
  },
  {
   "cell_type": "code",
   "execution_count": null,
   "metadata": {},
   "outputs": [],
   "source": []
  }
 ],
 "metadata": {
  "kernelspec": {
   "display_name": "Python 3",
   "language": "python",
   "name": "python3"
  },
  "language_info": {
   "codemirror_mode": {
    "name": "ipython",
    "version": 3
   },
   "file_extension": ".py",
   "mimetype": "text/x-python",
   "name": "python",
   "nbconvert_exporter": "python",
   "pygments_lexer": "ipython3",
   "version": "3.7.7"
  },
  "toc": {
   "base_numbering": 1,
   "nav_menu": {},
   "number_sections": true,
   "sideBar": true,
   "skip_h1_title": false,
   "title_cell": "Table of Contents",
   "title_sidebar": "Contents",
   "toc_cell": false,
   "toc_position": {},
   "toc_section_display": true,
   "toc_window_display": false
  }
 },
 "nbformat": 4,
 "nbformat_minor": 4
}
