{
 "cells": [
  {
   "cell_type": "markdown",
   "metadata": {},
   "source": [
    "# Homework 3"
   ]
  },
  {
   "cell_type": "markdown",
   "metadata": {},
   "source": [
    "## 1"
   ]
  },
  {
   "cell_type": "code",
   "execution_count": 34,
   "metadata": {},
   "outputs": [],
   "source": [
    "def func1(names, db):\n",
    "    idx = []\n",
    "    for i in names:\n",
    "        if i in db:\n",
    "            idx.append(db.index(i))\n",
    "    return idx"
   ]
  },
  {
   "cell_type": "code",
   "execution_count": 35,
   "metadata": {},
   "outputs": [],
   "source": [
    "import numpy as np\n",
    "\n",
    "def func2(names, db):\n",
    "    return np.isin(names, db)\n",
    "    "
   ]
  },
  {
   "cell_type": "code",
   "execution_count": 37,
   "metadata": {},
   "outputs": [
    {
     "name": "stdout",
     "output_type": "stream",
     "text": [
      "1.56 ms ± 9.3 µs per loop (mean ± std. dev. of 7 runs, 1000 loops each)\n",
      "600 µs ± 6.41 µs per loop (mean ± std. dev. of 7 runs, 1000 loops each)\n"
     ]
    }
   ],
   "source": [
    "alpha = \"abcdefghijklmnopqrstuvwxyz\"\n",
    "mynames = [x + y + z for x in alpha for y in alpha for z in alpha]\n",
    "mydb = [\"a\", \"bcd\", \"hi\", \"xyz\", \"good\", \"bad\"]\n",
    "\n",
    "npdb = np.array(mydb)\n",
    "npnames = np.array(mynames)\n",
    "\n",
    "%timeit func1(mynames, mydb)\n",
    "%timeit func2(npnames, npdb)\n",
    "\n",
    "# numpy.isin is about 2.5 times as fast as naive method. However, numpy is slower when left operand is small."
   ]
  },
  {
   "cell_type": "markdown",
   "metadata": {},
   "source": [
    "## 2"
   ]
  },
  {
   "cell_type": "code",
   "execution_count": 120,
   "metadata": {},
   "outputs": [],
   "source": [
    "def search_pairs(pts, r):\n",
    "    dist_origin = (np.sum(pts ** 2, 1)) ** 0.5\n",
    "    mask_origin = (dist_origin > r) # find the points that are inside the circle\n",
    "    \n",
    "    # construct n x n array of differences in x and y coordinates of all points\n",
    "    dist_axis = np.zeros((pts.shape[0], pts.shape[0], 2)) + pts[np.newaxis, :, :] - pts[:, np.newaxis, :]\n",
    "    dist_pts = np.sum(dist_axis ** 2, 2) ** 0.5 # find the distance between the points\n",
    "    dist_pts[np.tril_indices(pts.shape[0])] = 0 # get rid of lower triangle (duplicates)\n",
    "    \n",
    "    valid_pts = np.zeros((pts.shape[0], pts.shape[0]))\n",
    "    valid_pts[mask_origin, :] = dist_pts[mask_origin, :] # only keep the distances with >=1 point inside the circle\n",
    "    \n",
    "    max_dist = np.sort(np.ravel(valid_pts))[::-1] # sort the distances to find the largest 3\n",
    "    \n",
    "    return np.transpose(np.where(np.isin(valid_pts, max_dist[0:3]))) # return the indices of the largest 3 distances\n",
    "    \n",
    "    "
   ]
  },
  {
   "cell_type": "code",
   "execution_count": 121,
   "metadata": {},
   "outputs": [
    {
     "data": {
      "text/plain": [
       "array([[0, 3],\n",
       "       [1, 2],\n",
       "       [1, 3]])"
      ]
     },
     "execution_count": 121,
     "metadata": {},
     "output_type": "execute_result"
    }
   ],
   "source": [
    "coordinates = np.array([[0.968, 0.313],\n",
    "                        [0.692, 0.876],\n",
    "                        [0.895, 0.085],\n",
    "                        [0.039, 0.17 ],\n",
    "                        [0.878, 0.098]])\n",
    "cirle_r0 = 0.9\n",
    "search_pairs(coordinates, cirle_r0)\n",
    "\n",
    "# The indices of the relevant points in the original coordinates\n",
    "# [[2 1]\n",
    "#  [3 0]\n",
    "#  [3 1]]"
   ]
  },
  {
   "cell_type": "code",
   "execution_count": null,
   "metadata": {},
   "outputs": [],
   "source": []
  }
 ],
 "metadata": {
  "kernelspec": {
   "display_name": "Python 3",
   "language": "python",
   "name": "python3"
  },
  "language_info": {
   "codemirror_mode": {
    "name": "ipython",
    "version": 3
   },
   "file_extension": ".py",
   "mimetype": "text/x-python",
   "name": "python",
   "nbconvert_exporter": "python",
   "pygments_lexer": "ipython3",
   "version": "3.7.7"
  },
  "toc": {
   "base_numbering": 1,
   "nav_menu": {},
   "number_sections": true,
   "sideBar": true,
   "skip_h1_title": false,
   "title_cell": "Table of Contents",
   "title_sidebar": "Contents",
   "toc_cell": false,
   "toc_position": {},
   "toc_section_display": true,
   "toc_window_display": false
  }
 },
 "nbformat": 4,
 "nbformat_minor": 4
}
