{
 "cells": [
  {
   "cell_type": "markdown",
   "metadata": {},
   "source": [
    "# Homework 4"
   ]
  },
  {
   "cell_type": "markdown",
   "metadata": {},
   "source": [
    "## Exploratory Data Analysis"
   ]
  },
  {
   "cell_type": "code",
   "execution_count": 3,
   "metadata": {},
   "outputs": [],
   "source": [
    "import pandas as pd\n",
    "import numpy as np\n",
    "import zipfile"
   ]
  },
  {
   "cell_type": "code",
   "execution_count": 4,
   "metadata": {},
   "outputs": [],
   "source": [
    "zf = zipfile.ZipFile(\"compustat.zip\")\n",
    "df = pd.read_csv(zf.open(\"compustat.csv\"))"
   ]
  },
  {
   "cell_type": "code",
   "execution_count": 3,
   "metadata": {},
   "outputs": [],
   "source": [
    "mktcap = df[\"cshoq\"] * df[\"prccq\"]"
   ]
  },
  {
   "cell_type": "code",
   "execution_count": 4,
   "metadata": {},
   "outputs": [],
   "source": [
    "mktcapmean = mktcap.mean() # mean of market cap\n",
    "mktcapsd = mktcap.std() # sd of market cap\n",
    "mktcapnan = len(mktcap) - mktcap.count() # number of NaN\n",
    "mktcapratio = mktcapnan / len(mktcap) # ratio of NaN\n",
    "\n",
    "salesmean = df[\"saleq\"].mean()\n",
    "salessd = df[\"saleq\"].std()\n",
    "salesnan = len(df[\"saleq\"]) - df[\"saleq\"].count()\n",
    "salesratio = salesnan / len(df[\"saleq\"])"
   ]
  },
  {
   "cell_type": "code",
   "execution_count": 5,
   "metadata": {},
   "outputs": [
    {
     "data": {
      "text/html": [
       "<div>\n",
       "<style scoped>\n",
       "    .dataframe tbody tr th:only-of-type {\n",
       "        vertical-align: middle;\n",
       "    }\n",
       "\n",
       "    .dataframe tbody tr th {\n",
       "        vertical-align: top;\n",
       "    }\n",
       "\n",
       "    .dataframe thead th {\n",
       "        text-align: right;\n",
       "    }\n",
       "</style>\n",
       "<table border=\"1\" class=\"dataframe\">\n",
       "  <thead>\n",
       "    <tr style=\"text-align: right;\">\n",
       "      <th></th>\n",
       "      <th>mean</th>\n",
       "      <th>sd</th>\n",
       "      <th>#NaN</th>\n",
       "      <th>ratio NaN</th>\n",
       "    </tr>\n",
       "  </thead>\n",
       "  <tbody>\n",
       "    <tr>\n",
       "      <th>market cap</th>\n",
       "      <td>2057.473104</td>\n",
       "      <td>13202.197457</td>\n",
       "      <td>468276</td>\n",
       "      <td>0.258530</td>\n",
       "    </tr>\n",
       "    <tr>\n",
       "      <th>sales</th>\n",
       "      <td>445.150664</td>\n",
       "      <td>2679.706576</td>\n",
       "      <td>269498</td>\n",
       "      <td>0.148787</td>\n",
       "    </tr>\n",
       "  </tbody>\n",
       "</table>\n",
       "</div>"
      ],
      "text/plain": [
       "                   mean            sd    #NaN  ratio NaN\n",
       "market cap  2057.473104  13202.197457  468276   0.258530\n",
       "sales        445.150664   2679.706576  269498   0.148787"
      ]
     },
     "execution_count": 5,
     "metadata": {},
     "output_type": "execute_result"
    }
   ],
   "source": [
    "data = {\"mean\" : [mktcapmean, salesmean], \"sd\" : [mktcapsd, salessd], \"#NaN\" : [mktcapnan, salesnan], \"ratio NaN\" : [mktcapratio, salesratio]}\n",
    "pd.DataFrame(data, index=[\"market cap\", \"sales\"])"
   ]
  },
  {
   "cell_type": "markdown",
   "metadata": {},
   "source": [
    "Before calculating any values, we can simply take a look at mean, sd, and min/max values in order to get a sense of any outliers in the data.\n",
    "\n",
    "We can also take a look at a histogram or boxplot to check for outliers."
   ]
  },
  {
   "cell_type": "code",
   "execution_count": 6,
   "metadata": {},
   "outputs": [
    {
     "name": "stdout",
     "output_type": "stream",
     "text": [
      "1540774.21 0.0 207307.334 -25623.0\n"
     ]
    }
   ],
   "source": [
    "mktcapmax = max(mktcap.dropna())\n",
    "mktcapmin = min(mktcap.dropna())\n",
    "salesmax = max(df[\"saleq\"].dropna())\n",
    "salesmin = min(df[\"saleq\"].dropna())\n",
    "\n",
    "print(mktcapmax, mktcapmin, salesmax, salesmin)\n",
    "\n",
    "# Since the upper bound is much more further away from the mean, we suspect that there are more outliers to the right"
   ]
  },
  {
   "cell_type": "code",
   "execution_count": 72,
   "metadata": {},
   "outputs": [],
   "source": [
    "import matplotlib.pyplot as plt"
   ]
  },
  {
   "cell_type": "code",
   "execution_count": 8,
   "metadata": {
    "scrolled": true
   },
   "outputs": [
    {
     "data": {
      "text/plain": [
       "(array([1.341136e+06, 1.561000e+03, 2.130000e+02, 6.400000e+01,\n",
       "        1.800000e+01, 1.900000e+01, 7.000000e+00, 3.000000e+00,\n",
       "        1.000000e+00, 1.000000e+00]),\n",
       " array([      0.   ,  154077.421,  308154.842,  462232.263,  616309.684,\n",
       "         770387.105,  924464.526, 1078541.947, 1232619.368, 1386696.789,\n",
       "        1540774.21 ]),\n",
       " <BarContainer object of 10 artists>)"
      ]
     },
     "execution_count": 8,
     "metadata": {},
     "output_type": "execute_result"
    },
    {
     "data": {
      "image/png": "[encoded data removed]",
      "text/plain": [
       "<Figure size 432x288 with 1 Axes>"
      ]
     },
     "metadata": {
      "needs_background": "light"
     },
     "output_type": "display_data"
    }
   ],
   "source": [
    "plt.hist(mktcap.dropna())\n",
    "# from the histogram, it seems the bulk of the values are within 0 to 20,000"
   ]
  },
  {
   "cell_type": "code",
   "execution_count": 9,
   "metadata": {},
   "outputs": [
    {
     "data": {
      "text/plain": [
       "(array([1.800000e+01, 1.537278e+06, 3.458000e+03, 6.650000e+02,\n",
       "        2.100000e+02, 1.080000e+02, 5.500000e+01, 5.000000e+00,\n",
       "        1.000000e+00, 3.000000e+00]),\n",
       " array([-25623.    ,  -2329.9666,  20963.0668,  44256.1002,  67549.1336,\n",
       "         90842.167 , 114135.2004, 137428.2338, 160721.2672, 184014.3006,\n",
       "        207307.334 ]),\n",
       " <BarContainer object of 10 artists>)"
      ]
     },
     "execution_count": 9,
     "metadata": {},
     "output_type": "execute_result"
    },
    {
     "data": {
      "image/png": "[encoded data removed]",
      "text/plain": [
       "<Figure size 432x288 with 1 Axes>"
      ]
     },
     "metadata": {
      "needs_background": "light"
     },
     "output_type": "display_data"
    }
   ],
   "source": [
    "plt.hist(df[\"saleq\"].dropna())"
   ]
  },
  {
   "cell_type": "code",
   "execution_count": 10,
   "metadata": {},
   "outputs": [],
   "source": [
    "# We can first look at the middle values, in this case the middle 80 percentile\n",
    "\n",
    "mktcap80 = mktcap[mktcap.between(mktcap.quantile(0.1), mktcap.quantile(0.9))]\n",
    "sales80 = df[\"saleq\"][df[\"saleq\"].between(df[\"saleq\"].quantile(0.1), df[\"saleq\"].quantile(0.9))]"
   ]
  },
  {
   "cell_type": "code",
   "execution_count": 11,
   "metadata": {},
   "outputs": [
    {
     "data": {
      "text/plain": [
       "(array([847757., 142018.,  74549.,  47427.,  34300.,  25451.,  20081.,\n",
       "         16664.,  13462.,  11762.]),\n",
       " array([1.17000e-01, 6.12450e+01, 1.22373e+02, 1.83501e+02, 2.44629e+02,\n",
       "        3.05757e+02, 3.66885e+02, 4.28013e+02, 4.89141e+02, 5.50269e+02,\n",
       "        6.11397e+02]),\n",
       " <BarContainer object of 10 artists>)"
      ]
     },
     "execution_count": 11,
     "metadata": {},
     "output_type": "execute_result"
    },
    {
     "data": {
      "image/png": "[encoded data removed]",
      "text/plain": [
       "<Figure size 432x288 with 1 Axes>"
      ]
     },
     "metadata": {
      "needs_background": "light"
     },
     "output_type": "display_data"
    }
   ],
   "source": [
    "plt.hist(mktcap80)\n",
    "plt.hist(sales80)"
   ]
  },
  {
   "cell_type": "code",
   "execution_count": 12,
   "metadata": {},
   "outputs": [],
   "source": [
    "# We can also drop values that are more than 3 standard deviations from the mean\n",
    "\n",
    "mktcap_3sd = mktcap[mktcap.between(mktcapmean - 3 * mktcapsd, mktcapmean + 3 * mktcapsd)]\n",
    "sales_3sd = df[\"saleq\"][df[\"saleq\"].between(salesmean - 3 * salessd, salesmean + 3 * salessd)]"
   ]
  },
  {
   "cell_type": "code",
   "execution_count": 13,
   "metadata": {
    "scrolled": true
   },
   "outputs": [
    {
     "data": {
      "text/plain": [
       "(array([1.000000e+00, 3.000000e+00, 9.000000e+00, 4.500000e+01,\n",
       "        1.423437e+06, 6.496600e+04, 2.014200e+04, 9.208000e+03,\n",
       "        5.391000e+03, 3.501000e+03]),\n",
       " array([-6724.095 , -5203.2684, -3682.4418, -2161.6152,  -640.7886,\n",
       "          880.038 ,  2400.8646,  3921.6912,  5442.5178,  6963.3444,\n",
       "         8484.171 ]),\n",
       " <BarContainer object of 10 artists>)"
      ]
     },
     "execution_count": 13,
     "metadata": {},
     "output_type": "execute_result"
    },
    {
     "data": {
      "image/png": "[encoded data removed]",
      "text/plain": [
       "<Figure size 432x288 with 1 Axes>"
      ]
     },
     "metadata": {
      "needs_background": "light"
     },
     "output_type": "display_data"
    }
   ],
   "source": [
    "plt.hist(mktcap_3sd)\n",
    "plt.hist(sales_3sd)"
   ]
  },
  {
   "cell_type": "markdown",
   "metadata": {},
   "source": [
    "Since we are looking at data from many different industries, the outliers indicates that some particular industries have much higher sales numbers and market cap than the rest."
   ]
  },
  {
   "cell_type": "markdown",
   "metadata": {},
   "source": [
    "## Compute Industry Concentration"
   ]
  },
  {
   "cell_type": "code",
   "execution_count": 5,
   "metadata": {},
   "outputs": [],
   "source": [
    "df[\"industry\"] = [str(i)[:2] for i in df[\"sic\"]] # adding a column with the first two digits of sic"
   ]
  },
  {
   "cell_type": "code",
   "execution_count": 6,
   "metadata": {},
   "outputs": [],
   "source": [
    "df2 = df.dropna(subset=[\"industry\", \"saleq\", \"cusip\", \"datacqtr\"])"
   ]
  },
  {
   "cell_type": "code",
   "execution_count": 13,
   "metadata": {},
   "outputs": [],
   "source": [
    "grouped = df2[\"saleq\"].groupby([df2[\"industry\"], df2[\"cusip\"]]) # group by industry and company id"
   ]
  },
  {
   "cell_type": "code",
   "execution_count": 20,
   "metadata": {},
   "outputs": [],
   "source": [
    "grouped2 = df2[\"saleq\"].groupby(df2[\"industry\"]) # group only by industry"
   ]
  },
  {
   "cell_type": "code",
   "execution_count": 30,
   "metadata": {},
   "outputs": [],
   "source": [
    "mktshare = (grouped.mean() / grouped2.sum() * 100) ** 2 # the squared values of their market shares"
   ]
  },
  {
   "cell_type": "code",
   "execution_count": 38,
   "metadata": {},
   "outputs": [],
   "source": [
    "avgHHI = mktshare.unstack().sum(axis=1) # sum up the rows to get HHI for each industry"
   ]
  },
  {
   "cell_type": "code",
   "execution_count": 41,
   "metadata": {},
   "outputs": [],
   "source": [
    "top4 = sorted(avgHHI, reverse=True)[1:5]"
   ]
  },
  {
   "cell_type": "code",
   "execution_count": 43,
   "metadata": {},
   "outputs": [
    {
     "name": "stdout",
     "output_type": "stream",
     "text": [
      "industry\n",
      "84    49.090265\n",
      "dtype: float64\n",
      "industry\n",
      "89    42.950792\n",
      "dtype: float64\n",
      "industry\n",
      "86    18.903592\n",
      "dtype: float64\n",
      "industry\n",
      "81    3.539244\n",
      "dtype: float64\n"
     ]
    }
   ],
   "source": [
    "for i in top4:\n",
    "    print(avgHHI[avgHHI == i]) # top 4 highest avg HHI"
   ]
  },
  {
   "cell_type": "code",
   "execution_count": 46,
   "metadata": {},
   "outputs": [],
   "source": [
    "ind84 = grouped2.get_group(\"84\")\n",
    "ind89 = grouped2.get_group(\"89\")\n",
    "ind86 = grouped2.get_group(\"86\")\n",
    "ind81 = grouped2.get_group(\"81\")"
   ]
  },
  {
   "cell_type": "code",
   "execution_count": 74,
   "metadata": {},
   "outputs": [],
   "source": [
    "group84 = ind84.groupby([df2[\"datacqtr\"], df2[\"cusip\"]])\n",
    "group84_2 = ind84.groupby(df2[\"datacqtr\"])\n",
    "group89 = ind89.groupby([df2[\"datacqtr\"], df2[\"cusip\"]])\n",
    "group89_2 = ind89.groupby(df2[\"datacqtr\"])\n",
    "group86 = ind86.groupby([df2[\"datacqtr\"], df2[\"cusip\"]])\n",
    "group86_2 = ind86.groupby(df2[\"datacqtr\"])\n",
    "group81 = ind81.groupby([df2[\"datacqtr\"], df2[\"cusip\"]])\n",
    "group81_2 = ind81.groupby(df2[\"datacqtr\"])"
   ]
  },
  {
   "cell_type": "code",
   "execution_count": 75,
   "metadata": {},
   "outputs": [],
   "source": [
    "mktshare84 = (group84.sum() / group84_2.sum() * 100) ** 2\n",
    "mktshare89 = (group89.sum() / group89_2.sum() * 100) ** 2\n",
    "mktshare86 = (group86.sum() / group86_2.sum() * 100) ** 2\n",
    "mktshare81 = (group81.sum() / group81_2.sum() * 100) ** 2"
   ]
  },
  {
   "cell_type": "code",
   "execution_count": 76,
   "metadata": {},
   "outputs": [],
   "source": [
    "ts84 = mktshare84.unstack().sum(axis=1)\n",
    "ts89 = mktshare89.unstack().sum(axis=1)\n",
    "ts86 = mktshare86.unstack().sum(axis=1)\n",
    "ts81 = mktshare81.unstack().sum(axis=1)"
   ]
  },
  {
   "cell_type": "code",
   "execution_count": 82,
   "metadata": {},
   "outputs": [
    {
     "data": {
      "text/plain": [
       "[<matplotlib.lines.Line2D at 0x7f87c41b4790>]"
      ]
     },
     "execution_count": 82,
     "metadata": {},
     "output_type": "execute_result"
    },
    {
     "data": {
      "image/png": "[encoded data removed]",
      "text/plain": [
       "<Figure size 432x288 with 1 Axes>"
      ]
     },
     "metadata": {
      "needs_background": "light"
     },
     "output_type": "display_data"
    }
   ],
   "source": [
    "plt.plot(ts84)"
   ]
  },
  {
   "cell_type": "code",
   "execution_count": 81,
   "metadata": {},
   "outputs": [
    {
     "data": {
      "text/plain": [
       "[<matplotlib.lines.Line2D at 0x7f87c4273210>]"
      ]
     },
     "execution_count": 81,
     "metadata": {},
     "output_type": "execute_result"
    },
    {
     "data": {
      "image/png": "[encoded data removed]",
      "text/plain": [
       "<Figure size 432x288 with 1 Axes>"
      ]
     },
     "metadata": {
      "needs_background": "light"
     },
     "output_type": "display_data"
    }
   ],
   "source": [
    "plt.plot(ts89)"
   ]
  },
  {
   "cell_type": "code",
   "execution_count": 83,
   "metadata": {},
   "outputs": [
    {
     "data": {
      "text/plain": [
       "[<matplotlib.lines.Line2D at 0x7f87c4139690>]"
      ]
     },
     "execution_count": 83,
     "metadata": {},
     "output_type": "execute_result"
    },
    {
     "data": {
      "image/png": "[encoded data removed]",
      "text/plain": [
       "<Figure size 432x288 with 1 Axes>"
      ]
     },
     "metadata": {
      "needs_background": "light"
     },
     "output_type": "display_data"
    }
   ],
   "source": [
    "plt.plot(ts86)"
   ]
  },
  {
   "cell_type": "code",
   "execution_count": 84,
   "metadata": {},
   "outputs": [
    {
     "data": {
      "text/plain": [
       "[<matplotlib.lines.Line2D at 0x7f87c4048c10>]"
      ]
     },
     "execution_count": 84,
     "metadata": {},
     "output_type": "execute_result"
    },
    {
     "data": {
      "image/png": "[encoded data removed]",
      "text/plain": [
       "<Figure size 432x288 with 1 Axes>"
      ]
     },
     "metadata": {
      "needs_background": "light"
     },
     "output_type": "display_data"
    }
   ],
   "source": [
    "plt.plot(ts81)"
   ]
  },
  {
   "cell_type": "code",
   "execution_count": null,
   "metadata": {},
   "outputs": [],
   "source": []
  }
 ],
 "metadata": {
  "kernelspec": {
   "display_name": "Python 3",
   "language": "python",
   "name": "python3"
  },
  "language_info": {
   "codemirror_mode": {
    "name": "ipython",
    "version": 3
   },
   "file_extension": ".py",
   "mimetype": "text/x-python",
   "name": "python",
   "nbconvert_exporter": "python",
   "pygments_lexer": "ipython3",
   "version": "3.7.7"
  },
  "toc": {
   "base_numbering": 1,
   "nav_menu": {},
   "number_sections": true,
   "sideBar": true,
   "skip_h1_title": false,
   "title_cell": "Table of Contents",
   "title_sidebar": "Contents",
   "toc_cell": false,
   "toc_position": {
    "height": "calc(100% - 180px)",
    "left": "10px",
    "top": "150px",
    "width": "307.2px"
   },
   "toc_section_display": true,
   "toc_window_display": true
  }
 },
 "nbformat": 4,
 "nbformat_minor": 4
}
